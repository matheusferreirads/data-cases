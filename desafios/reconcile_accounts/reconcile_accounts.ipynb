{
 "cells": [
  {
   "cell_type": "code",
   "execution_count": 1,
   "id": "f9119d62",
   "metadata": {},
   "outputs": [],
   "source": [
    "import csv\n",
    "from pathlib import Path\n",
    "from pprint import pprint\n",
    "from datetime import datetime\n",
    "\n",
    "\n",
    "def reconcile_accounts(transactions1, transactions2):\n",
    "\n",
    "    def to_date(s):\n",
    "        return datetime.strptime(s, \"%Y-%m-%d\").date()\n",
    "\n",
    "\n",
    "    t1 = [row[:] for row in transactions1]\n",
    "    t2 = [row[:] for row in transactions2]\n",
    "    n1, n2 = len(t1), len(t2)\n",
    "\n",
    "\n",
    "    rec1 = [\n",
    "        {'idx': i, 'date': to_date(r[0]), 'dept': r[1], 'amt': r[2], 'ben': r[3]}\n",
    "        for i, r in enumerate(t1)\n",
    "    ]\n",
    "    rec2 = [\n",
    "        {'idx': i, 'date': to_date(r[0]), 'dept': r[1], 'amt': r[2], 'ben': r[3]}\n",
    "        for i, r in enumerate(t2)\n",
    "    ]\n",
    "    matched1 = [False] * n1\n",
    "    matched2 = [False] * n2\n",
    "    matched_keys = set()  \n",
    "\n",
    "\n",
    "    for r1 in sorted(rec1, key=lambda x: x['date']):\n",
    "        group_key = (r1['dept'], r1['amt'], r1['ben'], r1['date'])\n",
    "\n",
    "        if group_key in matched_keys:\n",
    "            continue\n",
    "\n",
    "        candidates = []\n",
    "        for r2 in rec2:\n",
    "            if matched2[r2['idx']]:\n",
    "                continue\n",
    "            if (r2['dept'], r2['amt'], r2['ben']) == (r1['dept'], r1['amt'], r1['ben']):\n",
    "                delta = (r2['date'] - r1['date']).days\n",
    "                if abs(delta) <= 1:\n",
    "                    candidates.append((abs(delta), r2['date'], r2))\n",
    "        if not candidates:\n",
    "            continue\n",
    "\n",
    "        candidates.sort(key=lambda x: (x[0], x[1]))\n",
    "        _, _, chosen = candidates[0]\n",
    "\n",
    "        matched1[r1['idx']] = True\n",
    "        matched2[chosen['idx']] = True\n",
    "        matched_keys.add(group_key)\n",
    "\n",
    "  \n",
    "    out1 = [row + ([\"FOUND\"] if matched1[i] else [\"MISSING\"]) for i, row in enumerate(t1)]\n",
    "    out2 = [row + ([\"FOUND\"] if matched2[i] else [\"MISSING\"]) for i, row in enumerate(t2)]\n",
    "    return out1, out2"
   ]
  },
  {
   "cell_type": "code",
   "execution_count": 2,
   "id": "8636dab0",
   "metadata": {},
   "outputs": [],
   "source": [
    "#Exemplo de dados do enunciado\n",
    "data1 = [\n",
    "    [\"2020-12-04\", \"Tecnologia\", \"16.00\", \"Bitbucket\"],\n",
    "    [\"2020-12-04\", \"Jurídico\",   \"60.00\", \"LinkSquares\"],\n",
    "    [\"2020-12-05\", \"Tecnologia\", \"50.00\", \"AWS\"],\n",
    "]\n",
    "data2 = [\n",
    "    [\"2020-12-04\", \"Tecnologia\", \"16.00\", \"Bitbucket\"],\n",
    "    [\"2020-12-05\", \"Tecnologia\", \"49.99\", \"AWS\"],\n",
    "    [\"2020-12-04\", \"Jurídico\",   \"60.00\", \"LinkSquares\"],\n",
    "]\n",
    "\n",
    "\n",
    "#Criação dos arquivos csv\n",
    "with open('transactions1.csv', 'w', newline='', encoding='utf-8') as f:\n",
    "    writer = csv.writer(f)\n",
    "    writer.writerows(data1)\n",
    "with open('transactions2.csv', 'w', newline='', encoding='utf-8') as f:\n",
    "    writer = csv.writer(f)\n",
    "    writer.writerows(data2)\n",
    "    \n",
    "    \n",
    "\n",
    "\n",
    "transactions1 = list(csv.reader(Path('transactions1.csv').open(encoding='utf-8')))\n",
    "transactions2 = list(csv.reader(Path('transactions2.csv').open(encoding='utf-8')))"
   ]
  },
  {
   "cell_type": "code",
   "execution_count": null,
   "id": "b5cf0fc8",
   "metadata": {},
   "outputs": [
    {
     "name": "stdout",
     "output_type": "stream",
     "text": [
      "[['2020-12-04', 'Tecnologia', '16.00', 'Bitbucket', 'FOUND'],\n",
      " ['2020-12-04', 'Jurídico', '60.00', 'LinkSquares', 'FOUND'],\n",
      " ['2020-12-05', 'Tecnologia', '50.00', 'AWS', 'MISSING']]\n",
      "'---------------------------------------------------------'\n",
      "[['2020-12-04', 'Tecnologia', '16.00', 'Bitbucket', 'FOUND'],\n",
      " ['2020-12-05', 'Tecnologia', '49.99', 'AWS', 'MISSING'],\n",
      " ['2020-12-04', 'Jurídico', '60.00', 'LinkSquares', 'FOUND']]\n",
      "\n"
     ]
    }
   ],
   "source": [
    "out1, out2 = reconcile_accounts(transactions1, transactions2)\n",
    "pprint(out1)\n",
    "pprint('---------------------------------------------------------')\n",
    "pprint(out2)\n"
   ]
  },
  {
   "cell_type": "code",
   "execution_count": 4,
   "id": "f8629ef3",
   "metadata": {},
   "outputs": [
    {
     "name": "stdout",
     "output_type": "stream",
     "text": [
      "[['2021-01-01', 'Vendas', '100.00', 'ClienteA', 'FOUND'],\n",
      " ['2021-01-01', 'Vendas', '100.00', 'ClienteA', 'MISSING'],\n",
      " ['2021-01-02', 'Vendas', '150.00', 'ClienteB', 'MISSING']]\n",
      "[['2021-01-01', 'Vendas', '100.00', 'ClienteA', 'FOUND'],\n",
      " ['2021-01-01', 'Vendas', '100.00', 'ClienteA', 'MISSING']]\n",
      "'================================================================================'\n",
      "[['2021-01-01', 'Vendas', '100.00', 'ClienteA', 'FOUND'],\n",
      " ['2021-01-01', 'Vendas', '100.00', 'ClienteA', 'MISSING'],\n",
      " ['2021-01-02', 'Vendas', '150.00', 'ClienteB', 'MISSING']]\n",
      "[['2021-01-01', 'Vendas', '100.00', 'ClienteA', 'FOUND']]\n"
     ]
    }
   ],
   "source": [
    "#Casos Duplicados\n",
    "\n",
    "tx1_dup = [\n",
    "    [\"2021-01-01\", \"Vendas\", \"100.00\", \"ClienteA\"],\n",
    "    [\"2021-01-01\", \"Vendas\", \"100.00\", \"ClienteA\"],  \n",
    "    [\"2021-01-02\", \"Vendas\", \"150.00\", \"ClienteB\"],\n",
    "]\n",
    "tx2_dup = [\n",
    "    [\"2021-01-01\", \"Vendas\", \"100.00\", \"ClienteA\"],\n",
    "    [\"2021-01-01\", \"Vendas\", \"100.00\", \"ClienteA\"],\n",
    "]\n",
    "\n",
    "o1, o2 = reconcile_accounts(tx1_dup, tx2_dup)\n",
    "pprint(o1)\n",
    "pprint(o2)\n",
    "\n",
    "pprint('================================================================================')\n",
    "\n",
    "tx1_dup = [\n",
    "    [\"2021-01-01\", \"Vendas\", \"100.00\", \"ClienteA\"],\n",
    "    [\"2021-01-01\", \"Vendas\", \"100.00\", \"ClienteA\"],  \n",
    "    [\"2021-01-02\", \"Vendas\", \"150.00\", \"ClienteB\"],\n",
    "]\n",
    "tx2_dup = [\n",
    "    [\"2021-01-01\", \"Vendas\", \"100.00\", \"ClienteA\"],\n",
    "]\n",
    "\n",
    "o1, o2 = reconcile_accounts(tx1_dup, tx2_dup)\n",
    "pprint(o1)\n",
    "pprint(o2)\n",
    "\n"
   ]
  },
  {
   "cell_type": "code",
   "execution_count": null,
   "id": "757396df",
   "metadata": {},
   "outputs": [
    {
     "name": "stdout",
     "output_type": "stream",
     "text": [
      "[['2020-12-25', 'RH', '300.00', 'EmpresaY', 'FOUND']]\n",
      "[['2020-12-24', 'RH', '300.00', 'EmpresaY', 'FOUND'],\n",
      " ['2020-12-28', 'RH', '300.00', 'EmpresaY', 'MISSING'],\n",
      " ['2020-12-26', 'RH', '300.00', 'EmpresaY', 'MISSING']]\n",
      "\n"
     ]
    }
   ],
   "source": [
    "# Exemplo data mais recente\n",
    "tx1_multi = [[\"2020-12-25\", \"RH\", \"300.00\", \"EmpresaY\"]]\n",
    "tx2_multi = [\n",
    "    [\"2020-12-24\", \"RH\", \"300.00\", \"EmpresaY\"],  \n",
    "    [\"2020-12-28\", \"RH\", \"300.00\", \"EmpresaY\"],  \n",
    "    [\"2020-12-26\", \"RH\", \"300.00\", \"EmpresaY\"],  \n",
    "]\n",
    "\n",
    "o1, o2 = reconcile_accounts(tx1_multi, tx2_multi)\n",
    "pprint(o1)\n",
    "pprint(o2)\n"
   ]
  }
 ],
 "metadata": {
  "kernelspec": {
   "display_name": "Python 3",
   "language": "python",
   "name": "python3"
  },
  "language_info": {
   "codemirror_mode": {
    "name": "ipython",
    "version": 3
   },
   "file_extension": ".py",
   "mimetype": "text/x-python",
   "name": "python",
   "nbconvert_exporter": "python",
   "pygments_lexer": "ipython3",
   "version": "3.12.7"
  }
 },
 "nbformat": 4,
 "nbformat_minor": 5
}
