{
 "cells": [
  {
   "cell_type": "code",
   "execution_count": 1,
   "id": "a5108266",
   "metadata": {},
   "outputs": [],
   "source": [
    "import io\n",
    "import os\n",
    "\n",
    "def last_lines(file_path, bufsize=io.DEFAULT_BUFFER_SIZE):\n",
    "    try:\n",
    "        with open(file_path, 'rb') as f:\n",
    "            f.seek(0, os.SEEK_END)\n",
    "            pos = f.tell()\n",
    "            buffer = b''\n",
    "            first_pass = True\n",
    "\n",
    "            while pos > 0:\n",
    "\n",
    "                read_size = min(bufsize, pos)\n",
    "                pos -= read_size\n",
    "                f.seek(pos)\n",
    "                chunk = f.read(read_size)\n",
    "\n",
    "\n",
    "                buffer = chunk + buffer\n",
    "\n",
    "\n",
    "                parts = buffer.split(b'\\n')\n",
    "\n",
    "                if first_pass and pos == 0 and parts and parts[-1] == b'':\n",
    "                    parts = parts[:-1]\n",
    "\n",
    "                first_pass = False\n",
    "\n",
    "\n",
    "                buffer = parts[0]\n",
    "\n",
    "                for segment in reversed(parts[1:]):\n",
    "\n",
    "                    cleaned = segment.rstrip(b'\\r')\n",
    "                    yield cleaned.decode('utf-8') + '\\n'\n",
    "\n",
    "            if buffer:\n",
    "                cleaned = buffer.rstrip(b'\\r')\n",
    "                yield cleaned.decode('utf-8') + '\\n'\n",
    "                \n",
    "    except FileNotFoundError:\n",
    "        print(f\"Erro: O arquivo '{file_path}' não foi encontrado.\")\n",
    "    except PermissionError:\n",
    "        print(f\"Erro: Permissão negada para acessar o arquivo '{file_path}'.\")\n",
    "    except Exception as e:\n",
    "        print(f\"Erro inesperado: {e}\")"
   ]
  },
  {
   "cell_type": "code",
   "execution_count": 2,
   "id": "0790032b",
   "metadata": {},
   "outputs": [],
   "source": [
    "\n",
    "# cria o arquivo de teste\n",
    "with open('my_file.txt', 'w', encoding='utf-8') as f:\n",
    "    f.write(\"This is a file\\n\")\n",
    "    f.write(\"This is line 2\\n\")\n",
    "    f.write(\"And this is line 3\\n\")"
   ]
  },
  {
   "cell_type": "code",
   "execution_count": 3,
   "id": "35a519bd",
   "metadata": {},
   "outputs": [
    {
     "name": "stdout",
     "output_type": "stream",
     "text": [
      "And this is line 3\n",
      "This is line 2\n",
      "This is a file\n"
     ]
    }
   ],
   "source": [
    "for line in last_lines('my_file.txt'):\n",
    "    print(line, end='')"
   ]
  },
  {
   "cell_type": "code",
   "execution_count": 4,
   "id": "8be8c94d",
   "metadata": {},
   "outputs": [
    {
     "data": {
      "text/plain": [
       "'And this is line 3\\n'"
      ]
     },
     "execution_count": 4,
     "metadata": {},
     "output_type": "execute_result"
    }
   ],
   "source": [
    "lines = last_lines('my_file.txt')\n",
    "next(lines)"
   ]
  },
  {
   "cell_type": "code",
   "execution_count": 5,
   "id": "7235c230",
   "metadata": {},
   "outputs": [
    {
     "data": {
      "text/plain": [
       "'This is line 2\\n'"
      ]
     },
     "execution_count": 5,
     "metadata": {},
     "output_type": "execute_result"
    }
   ],
   "source": [
    "next(lines)"
   ]
  },
  {
   "cell_type": "code",
   "execution_count": 6,
   "id": "ebfe4eae",
   "metadata": {},
   "outputs": [
    {
     "data": {
      "text/plain": [
       "'This is a file\\n'"
      ]
     },
     "execution_count": 6,
     "metadata": {},
     "output_type": "execute_result"
    }
   ],
   "source": [
    "next(lines)"
   ]
  }
 ],
 "metadata": {
  "kernelspec": {
   "display_name": "Python 3",
   "language": "python",
   "name": "python3"
  },
  "language_info": {
   "codemirror_mode": {
    "name": "ipython",
    "version": 3
   },
   "file_extension": ".py",
   "mimetype": "text/x-python",
   "name": "python",
   "nbconvert_exporter": "python",
   "pygments_lexer": "ipython3",
   "version": "3.12.7"
  }
 },
 "nbformat": 4,
 "nbformat_minor": 5
}
