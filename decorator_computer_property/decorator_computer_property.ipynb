{
 "cells": [
  {
   "cell_type": "markdown",
   "metadata": {},
   "source": [
    "## Decorator Class"
   ]
  },
  {
   "cell_type": "code",
   "execution_count": 6,
   "metadata": {},
   "outputs": [],
   "source": [
    "from functools import wraps\n",
    "from weakref import WeakKeyDictionary\n",
    "\n",
    "class computed_property:\n",
    "    def __init__(self, *dependencies):\n",
    "        self.dependencies = dependencies\n",
    "        self.func = None\n",
    "        self.cache = WeakKeyDictionary()\n",
    "        self._setter = None\n",
    "        self._deleter = None\n",
    "        \n",
    "    def __call__(self, func):\n",
    "        self.func = wraps(func)(func)\n",
    "        return self\n",
    "    \n",
    "    def __get__(self, instance, owner):\n",
    "        if instance is None:\n",
    "            return self\n",
    "        \n",
    "        if instance not in self.cache:\n",
    "            self.cache[instance] = {\n",
    "                'value': None,\n",
    "                'depends': {}\n",
    "            }\n",
    "            \n",
    "        cache_entry =  self.cache[instance]\n",
    "        \n",
    "        depends_changed = False\n",
    "        for dep in self.dependencies:\n",
    "            if hasattr(instance, dep):\n",
    "                current_value =  getattr(instance, dep)\n",
    "                if dep not in cache_entry['depends'] or cache_entry[\"depends\"][dep] != current_value:\n",
    "                    depends_changed = True\n",
    "                    cache_entry['depends'][dep] = current_value\n",
    "                    \n",
    "                    \n",
    "        if depends_changed or cache_entry['value'] is None:\n",
    "            cache_entry['value'] = self.func(instance)\n",
    "            \n",
    "        return cache_entry['value']\n",
    "    \n",
    "    \n",
    "    def __set__(self, instance, value):\n",
    "        if self._setter is None:\n",
    "            raise AttributeError(\"can't set attribute\")\n",
    "        self._setter(instance, value)\n",
    "        self.cache.pop(instance, None)\n",
    "        \n",
    "    \n",
    "    def __delete__(self, instance):\n",
    "        if self.deleter is None:\n",
    "            raise AttributeError(\"can't delete attribute\")\n",
    "        self._deleter(instance)\n",
    "        self.cache.pop(instance, None)\n",
    "    \n",
    "    \n",
    "        \n",
    "    def setter(self, func):\n",
    "        self._setter = func\n",
    "        return self\n",
    "\n",
    "    def deleter(self, func):\n",
    "        self._deleter = func\n",
    "        return self    \n",
    "        \n",
    "    @property\n",
    "    def __doc__(self):\n",
    "        return self.func.__doc__ if self.func else None\n",
    "            "
   ]
  },
  {
   "cell_type": "markdown",
   "metadata": {},
   "source": [
    "## Vector Class"
   ]
  },
  {
   "cell_type": "code",
   "execution_count": 7,
   "metadata": {},
   "outputs": [],
   "source": [
    "class Vector:\n",
    "    def __init__(self, x, y, z, color=None):\n",
    "        self.x, self.y, self.z = x, y, z\n",
    "        self.color = color\n",
    "\n",
    "    def __repr__(self):\n",
    "        return f'Vector({self.x!r}, {self.y!r}, {self.z!r})'\n",
    "\n",
    "    @computed_property('x', 'y', 'z')\n",
    "    def magnitude(self):\n",
    "        \"\"\"Magnitude of the vector\"\"\"\n",
    "        print('computing magnitude')\n",
    "        return (self.x**2 + self.y**2 + self.z**2) ** 0.5"
   ]
  },
  {
   "cell_type": "code",
   "execution_count": 8,
   "metadata": {},
   "outputs": [
    {
     "name": "stdout",
     "output_type": "stream",
     "text": [
      "computing magnitude\n",
      "11.0\n",
      "11.0\n",
      "computing magnitude\n",
      "21.0\n"
     ]
    }
   ],
   "source": [
    "v = Vector(9, 2, 6)\n",
    "print(v.magnitude) \n",
    "\n",
    "v.color = 'red'\n",
    "print(v.magnitude)  \n",
    "\n",
    "v.y = 18\n",
    "print(v.magnitude) "
   ]
  },
  {
   "cell_type": "markdown",
   "metadata": {},
   "source": [
    "## Circle Class"
   ]
  },
  {
   "cell_type": "code",
   "execution_count": 9,
   "metadata": {},
   "outputs": [],
   "source": [
    "class Circle:\n",
    "    def __init__(self, radius=1):\n",
    "        self.radius = radius\n",
    "\n",
    "    @computed_property('radius')\n",
    "    def diameter(self):\n",
    "        \"\"\"Circle diameter from radius\"\"\"\n",
    "        return self.radius * 2\n",
    "    \n",
    "    @diameter.setter\n",
    "    def diameter(self, diameter):\n",
    "        self.radius = diameter / 2\n",
    "\n",
    "    @diameter.deleter\n",
    "    def diameter(self):\n",
    "        self.radius = 0"
   ]
  },
  {
   "cell_type": "code",
   "execution_count": 10,
   "metadata": {},
   "outputs": [
    {
     "name": "stdout",
     "output_type": "stream",
     "text": [
      "2\n",
      "1.5\n",
      "0\n",
      "Help on class Circle in module __main__:\n",
      "\n",
      "class Circle(builtins.object)\n",
      " |  Circle(radius=1)\n",
      " |\n",
      " |  Methods defined here:\n",
      " |\n",
      " |  __init__(self, radius=1)\n",
      " |      Initialize self.  See help(type(self)) for accurate signature.\n",
      " |\n",
      " |  ----------------------------------------------------------------------\n",
      " |  Data descriptors defined here:\n",
      " |\n",
      " |  __dict__\n",
      " |      dictionary for instance variables\n",
      " |\n",
      " |  __weakref__\n",
      " |      list of weak references to the object\n",
      " |\n",
      " |  diameter\n",
      " |      Circle diameter from radius\n",
      "\n"
     ]
    }
   ],
   "source": [
    "circle = Circle()\n",
    "\n",
    "\n",
    "print(circle.diameter)  \n",
    "circle.diameter = 3\n",
    "print(circle.radius)  \n",
    "\n",
    "\n",
    "\n",
    "\n",
    "del circle.diameter\n",
    "print(circle.radius) \n",
    "\n",
    "\n",
    "help(Circle)"
   ]
  }
 ],
 "metadata": {
  "kernelspec": {
   "display_name": "Python 3",
   "language": "python",
   "name": "python3"
  },
  "language_info": {
   "codemirror_mode": {
    "name": "ipython",
    "version": 3
   },
   "file_extension": ".py",
   "mimetype": "text/x-python",
   "name": "python",
   "nbconvert_exporter": "python",
   "pygments_lexer": "ipython3",
   "version": "3.12.7"
  }
 },
 "nbformat": 4,
 "nbformat_minor": 2
}
